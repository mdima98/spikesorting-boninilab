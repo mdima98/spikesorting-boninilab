{
 "cells": [
  {
   "cell_type": "markdown",
   "metadata": {},
   "source": [
    "# Postprocessing pipeline with SpikeInterface"
   ]
  },
  {
   "cell_type": "code",
   "execution_count": null,
   "metadata": {},
   "outputs": [],
   "source": []
  },
  {
   "cell_type": "code",
   "execution_count": null,
   "metadata": {},
   "outputs": [],
   "source": []
  },
  {
   "cell_type": "code",
   "execution_count": null,
   "metadata": {},
   "outputs": [],
   "source": []
  },
  {
   "cell_type": "code",
   "execution_count": 1,
   "metadata": {},
   "outputs": [],
   "source": [
    "def get_meta_data(ext):\n",
    "    meta_data_dict = {\n",
    "        'DT2': {'num_channels': 32, 'num_adc_bits': 16, 'voltage_res': 0.2e-6, 'sampling_rate': 32e3},\n",
    "        'DT4': {'num_channels': 64, 'num_adc_bits': 16, 'voltage_res': 0.2e-6, 'sampling_rate': 32e3},\n",
    "        'DT6': {'num_channels': 128, 'num_adc_bits': 16, 'voltage_res': 0.2e-6, 'sampling_rate': 32e3},\n",
    "        'DT8': {'num_channels': 8, 'num_adc_bits': 15, 'voltage_res': 0.42e-6, 'sampling_rate': 4e3},\n",
    "        'DAT': {'num_channels': 16, 'num_adc_bits': 12, 'voltage_res': 3.3e-6, 'sampling_rate': 31.25e3}\n",
    "    }\n",
    "    return meta_data_dict[ext.upper()]"
   ]
  },
  {
   "cell_type": "code",
   "execution_count": 12,
   "metadata": {},
   "outputs": [
    {
     "data": {
      "text/html": [
       "<div style='border:1px solid #ddd; padding:10px;'><strong>BinaryRecordingExtractor: 128 channels - 32.0kHz - 1 segments - 128,791,427 samples - 4,024.73s (1.12 hours) - uint16 dtype - 30.71 GiB</strong></div><details style='margin-left: 10px;'>  <summary><strong>Channel IDs</strong></summary><ul>[  0   1   2   3   4   5   6   7   8   9  10  11  12  13  14  15  16  17\n",
       "  18  19  20  21  22  23  24  25  26  27  28  29  30  31  32  33  34  35\n",
       "  36  37  38  39  40  41  42  43  44  45  46  47  48  49  50  51  52  53\n",
       "  54  55  56  57  58  59  60  61  62  63  64  65  66  67  68  69  70  71\n",
       "  72  73  74  75  76  77  78  79  80  81  82  83  84  85  86  87  88  89\n",
       "  90  91  92  93  94  95  96  97  98  99 100 101 102 103 104 105 106 107\n",
       " 108 109 110 111 112 113 114 115 116 117 118 119 120 121 122 123 124 125\n",
       " 126 127] </details><details style='margin-left: 10px;'>  <summary><strong>Annotations</strong></summary><ul><li> <strong> is_filtered </strong>: False</li><li> <strong> probe_0_planar_contour </strong>: [[  -7.5 1071.7]\n",
       " [  -7.5   -7.5]\n",
       " [1612.5  -87.5]\n",
       " [3232.5   -7.5]\n",
       " [3232.5 1071.7]]</li><li> <strong> probe_1_planar_contour </strong>: [[-4007.5  1071.7]\n",
       " [-4007.5    -7.5]\n",
       " [-2387.5   -87.5]\n",
       " [ -767.5    -7.5]\n",
       " [ -767.5  1071.7]]</li><li> <strong> probe_2_planar_contour </strong>: [[  -7.5 3071.7]\n",
       " [  -7.5 1992.5]\n",
       " [1612.5 1912.5]\n",
       " [3232.5 1992.5]\n",
       " [3232.5 3071.7]]</li><li> <strong> probe_3_planar_contour </strong>: [[-4007.5  3071.7]\n",
       " [-4007.5  1992.5]\n",
       " [-2387.5  1912.5]\n",
       " [ -767.5  1992.5]\n",
       " [ -767.5  3071.7]]</li><li> <strong> probes_info </strong>: [{}, {}, {}, {}]</li></details><details style='margin-left: 10px;'><summary><strong>Properties</strong></summary><ul><details><summary><strong>gain_to_uV</strong></summary>[0.2 0.2 0.2 0.2 0.2 0.2 0.2 0.2 0.2 0.2 0.2 0.2 0.2 0.2 0.2 0.2 0.2 0.2\n",
       " 0.2 0.2 0.2 0.2 0.2 0.2 0.2 0.2 0.2 0.2 0.2 0.2 0.2 0.2 0.2 0.2 0.2 0.2\n",
       " 0.2 0.2 0.2 0.2 0.2 0.2 0.2 0.2 0.2 0.2 0.2 0.2 0.2 0.2 0.2 0.2 0.2 0.2\n",
       " 0.2 0.2 0.2 0.2 0.2 0.2 0.2 0.2 0.2 0.2 0.2 0.2 0.2 0.2 0.2 0.2 0.2 0.2\n",
       " 0.2 0.2 0.2 0.2 0.2 0.2 0.2 0.2 0.2 0.2 0.2 0.2 0.2 0.2 0.2 0.2 0.2 0.2\n",
       " 0.2 0.2 0.2 0.2 0.2 0.2 0.2 0.2 0.2 0.2 0.2 0.2 0.2 0.2 0.2 0.2 0.2 0.2\n",
       " 0.2 0.2 0.2 0.2 0.2 0.2 0.2 0.2 0.2 0.2 0.2 0.2 0.2 0.2 0.2 0.2 0.2 0.2\n",
       " 0.2 0.2]</details><details><summary><strong>offset_to_uV</strong></summary>[-6553.6 -6553.6 -6553.6 -6553.6 -6553.6 -6553.6 -6553.6 -6553.6 -6553.6\n",
       " -6553.6 -6553.6 -6553.6 -6553.6 -6553.6 -6553.6 -6553.6 -6553.6 -6553.6\n",
       " -6553.6 -6553.6 -6553.6 -6553.6 -6553.6 -6553.6 -6553.6 -6553.6 -6553.6\n",
       " -6553.6 -6553.6 -6553.6 -6553.6 -6553.6 -6553.6 -6553.6 -6553.6 -6553.6\n",
       " -6553.6 -6553.6 -6553.6 -6553.6 -6553.6 -6553.6 -6553.6 -6553.6 -6553.6\n",
       " -6553.6 -6553.6 -6553.6 -6553.6 -6553.6 -6553.6 -6553.6 -6553.6 -6553.6\n",
       " -6553.6 -6553.6 -6553.6 -6553.6 -6553.6 -6553.6 -6553.6 -6553.6 -6553.6\n",
       " -6553.6 -6553.6 -6553.6 -6553.6 -6553.6 -6553.6 -6553.6 -6553.6 -6553.6\n",
       " -6553.6 -6553.6 -6553.6 -6553.6 -6553.6 -6553.6 -6553.6 -6553.6 -6553.6\n",
       " -6553.6 -6553.6 -6553.6 -6553.6 -6553.6 -6553.6 -6553.6 -6553.6 -6553.6\n",
       " -6553.6 -6553.6 -6553.6 -6553.6 -6553.6 -6553.6 -6553.6 -6553.6 -6553.6\n",
       " -6553.6 -6553.6 -6553.6 -6553.6 -6553.6 -6553.6 -6553.6 -6553.6 -6553.6\n",
       " -6553.6 -6553.6 -6553.6 -6553.6 -6553.6 -6553.6 -6553.6 -6553.6 -6553.6\n",
       " -6553.6 -6553.6 -6553.6 -6553.6 -6553.6 -6553.6 -6553.6 -6553.6 -6553.6\n",
       " -6553.6 -6553.6]</details><details><summary><strong>contact_vector</strong></summary>[(0,  2812.5,   12.5, 'circle', 5., '', '',   0, 'um', 1., 0., 0., 1.)\n",
       " (1, -1187.5,   12.5, 'circle', 5., '', '',   1, 'um', 1., 0., 0., 1.)\n",
       " (2,   412.5, 3051.7, 'circle', 5., '', '',   2, 'um', 1., 0., 0., 1.)\n",
       " (3, -3587.5, 3051.7, 'circle', 5., '', '',   3, 'um', 1., 0., 0., 1.)\n",
       " (0,  2412.5,   12.5, 'circle', 5., '', '',   4, 'um', 1., 0., 0., 1.)\n",
       " (1, -1587.5,   12.5, 'circle', 5., '', '',   5, 'um', 1., 0., 0., 1.)\n",
       " (2,   812.5, 3051.7, 'circle', 5., '', '',   6, 'um', 1., 0., 0., 1.)\n",
       " (3, -3187.5, 3051.7, 'circle', 5., '', '',   7, 'um', 1., 0., 0., 1.)\n",
       " (0,  2012.5,   12.5, 'circle', 5., '', '',   8, 'um', 1., 0., 0., 1.)\n",
       " (1, -1987.5,   12.5, 'circle', 5., '', '',   9, 'um', 1., 0., 0., 1.)\n",
       " (2,  1212.5, 3051.7, 'circle', 5., '', '',  10, 'um', 1., 0., 0., 1.)\n",
       " (3, -2787.5, 3051.7, 'circle', 5., '', '',  11, 'um', 1., 0., 0., 1.)\n",
       " (0,  1612.5,   12.5, 'circle', 5., '', '',  12, 'um', 1., 0., 0., 1.)\n",
       " (1, -2387.5,   12.5, 'circle', 5., '', '',  13, 'um', 1., 0., 0., 1.)\n",
       " (2,  1612.5, 3051.7, 'circle', 5., '', '',  14, 'um', 1., 0., 0., 1.)\n",
       " (3, -2387.5, 3051.7, 'circle', 5., '', '',  15, 'um', 1., 0., 0., 1.)\n",
       " (0,  1212.5,   12.5, 'circle', 5., '', '',  16, 'um', 1., 0., 0., 1.)\n",
       " (1, -2787.5,   12.5, 'circle', 5., '', '',  17, 'um', 1., 0., 0., 1.)\n",
       " (2,  2012.5, 3051.7, 'circle', 5., '', '',  18, 'um', 1., 0., 0., 1.)\n",
       " (3, -1987.5, 3051.7, 'circle', 5., '', '',  19, 'um', 1., 0., 0., 1.)\n",
       " (0,   812.5,   12.5, 'circle', 5., '', '',  20, 'um', 1., 0., 0., 1.)\n",
       " (1, -3187.5,   12.5, 'circle', 5., '', '',  21, 'um', 1., 0., 0., 1.)\n",
       " (2,  2412.5, 3051.7, 'circle', 5., '', '',  22, 'um', 1., 0., 0., 1.)\n",
       " (3, -1587.5, 3051.7, 'circle', 5., '', '',  23, 'um', 1., 0., 0., 1.)\n",
       " (0,   412.5,   12.5, 'circle', 5., '', '',  24, 'um', 1., 0., 0., 1.)\n",
       " (1, -3587.5,   12.5, 'circle', 5., '', '',  25, 'um', 1., 0., 0., 1.)\n",
       " (2,  2812.5, 3051.7, 'circle', 5., '', '',  26, 'um', 1., 0., 0., 1.)\n",
       " (3, -1187.5, 3051.7, 'circle', 5., '', '',  27, 'um', 1., 0., 0., 1.)\n",
       " (0,    12.5,   12.5, 'circle', 5., '', '',  28, 'um', 1., 0., 0., 1.)\n",
       " (1, -3987.5,   12.5, 'circle', 5., '', '',  29, 'um', 1., 0., 0., 1.)\n",
       " (2,  3212.5, 3051.7, 'circle', 5., '', '',  30, 'um', 1., 0., 0., 1.)\n",
       " (3,  -787.5, 3051.7, 'circle', 5., '', '',  31, 'um', 1., 0., 0., 1.)\n",
       " (0,  3212.5,  358.9, 'circle', 5., '', '',  32, 'um', 1., 0., 0., 1.)\n",
       " (1,  -787.5,  358.9, 'circle', 5., '', '',  33, 'um', 1., 0., 0., 1.)\n",
       " (2,    12.5, 2705.3, 'circle', 5., '', '',  34, 'um', 1., 0., 0., 1.)\n",
       " (3, -3987.5, 2705.3, 'circle', 5., '', '',  35, 'um', 1., 0., 0., 1.)\n",
       " (0,  2812.5,  358.9, 'circle', 5., '', '',  36, 'um', 1., 0., 0., 1.)\n",
       " (1, -1187.5,  358.9, 'circle', 5., '', '',  37, 'um', 1., 0., 0., 1.)\n",
       " (2,   412.5, 2705.3, 'circle', 5., '', '',  38, 'um', 1., 0., 0., 1.)\n",
       " (3, -3587.5, 2705.3, 'circle', 5., '', '',  39, 'um', 1., 0., 0., 1.)\n",
       " (0,  2412.5,  358.9, 'circle', 5., '', '',  40, 'um', 1., 0., 0., 1.)\n",
       " (1, -1587.5,  358.9, 'circle', 5., '', '',  41, 'um', 1., 0., 0., 1.)\n",
       " (2,   812.5, 2705.3, 'circle', 5., '', '',  42, 'um', 1., 0., 0., 1.)\n",
       " (3, -3187.5, 2705.3, 'circle', 5., '', '',  43, 'um', 1., 0., 0., 1.)\n",
       " (0,  2012.5,  358.9, 'circle', 5., '', '',  44, 'um', 1., 0., 0., 1.)\n",
       " (1, -1987.5,  358.9, 'circle', 5., '', '',  45, 'um', 1., 0., 0., 1.)\n",
       " (2,  1212.5, 2705.3, 'circle', 5., '', '',  46, 'um', 1., 0., 0., 1.)\n",
       " (3, -2787.5, 2705.3, 'circle', 5., '', '',  47, 'um', 1., 0., 0., 1.)\n",
       " (0,  1612.5,  358.9, 'circle', 5., '', '',  48, 'um', 1., 0., 0., 1.)\n",
       " (1, -2387.5,  358.9, 'circle', 5., '', '',  49, 'um', 1., 0., 0., 1.)\n",
       " (2,  1612.5, 2705.3, 'circle', 5., '', '',  50, 'um', 1., 0., 0., 1.)\n",
       " (3, -2387.5, 2705.3, 'circle', 5., '', '',  51, 'um', 1., 0., 0., 1.)\n",
       " (0,  1212.5,  358.9, 'circle', 5., '', '',  52, 'um', 1., 0., 0., 1.)\n",
       " (1, -2787.5,  358.9, 'circle', 5., '', '',  53, 'um', 1., 0., 0., 1.)\n",
       " (2,  2012.5, 2705.3, 'circle', 5., '', '',  54, 'um', 1., 0., 0., 1.)\n",
       " (3, -1987.5, 2705.3, 'circle', 5., '', '',  55, 'um', 1., 0., 0., 1.)\n",
       " (0,   812.5,  358.9, 'circle', 5., '', '',  56, 'um', 1., 0., 0., 1.)\n",
       " (1, -3187.5,  358.9, 'circle', 5., '', '',  57, 'um', 1., 0., 0., 1.)\n",
       " (2,  2412.5, 2705.3, 'circle', 5., '', '',  58, 'um', 1., 0., 0., 1.)\n",
       " (3, -1587.5, 2705.3, 'circle', 5., '', '',  59, 'um', 1., 0., 0., 1.)\n",
       " (0,   412.5,  358.9, 'circle', 5., '', '',  60, 'um', 1., 0., 0., 1.)\n",
       " (1, -3587.5,  358.9, 'circle', 5., '', '',  61, 'um', 1., 0., 0., 1.)\n",
       " (2,  2812.5, 2705.3, 'circle', 5., '', '',  62, 'um', 1., 0., 0., 1.)\n",
       " (3, -1187.5, 2705.3, 'circle', 5., '', '',  63, 'um', 1., 0., 0., 1.)\n",
       " (0,  2812.5,  705.3, 'circle', 5., '', '',  64, 'um', 1., 0., 0., 1.)\n",
       " (1, -1187.5,  705.3, 'circle', 5., '', '',  65, 'um', 1., 0., 0., 1.)\n",
       " (2,   412.5, 2358.9, 'circle', 5., '', '',  66, 'um', 1., 0., 0., 1.)\n",
       " (3, -3587.5, 2358.9, 'circle', 5., '', '',  67, 'um', 1., 0., 0., 1.)\n",
       " (0,  2412.5,  705.3, 'circle', 5., '', '',  68, 'um', 1., 0., 0., 1.)\n",
       " (1, -1587.5,  705.3, 'circle', 5., '', '',  69, 'um', 1., 0., 0., 1.)\n",
       " (2,   812.5, 2358.9, 'circle', 5., '', '',  70, 'um', 1., 0., 0., 1.)\n",
       " (3, -3187.5, 2358.9, 'circle', 5., '', '',  71, 'um', 1., 0., 0., 1.)\n",
       " (0,  2012.5,  705.3, 'circle', 5., '', '',  72, 'um', 1., 0., 0., 1.)\n",
       " (1, -1987.5,  705.3, 'circle', 5., '', '',  73, 'um', 1., 0., 0., 1.)\n",
       " (2,  1212.5, 2358.9, 'circle', 5., '', '',  74, 'um', 1., 0., 0., 1.)\n",
       " (3, -2787.5, 2358.9, 'circle', 5., '', '',  75, 'um', 1., 0., 0., 1.)\n",
       " (0,  1612.5,  705.3, 'circle', 5., '', '',  76, 'um', 1., 0., 0., 1.)\n",
       " (1, -2387.5,  705.3, 'circle', 5., '', '',  77, 'um', 1., 0., 0., 1.)\n",
       " (2,  1612.5, 2358.9, 'circle', 5., '', '',  78, 'um', 1., 0., 0., 1.)\n",
       " (3, -2387.5, 2358.9, 'circle', 5., '', '',  79, 'um', 1., 0., 0., 1.)\n",
       " (0,  1212.5,  705.3, 'circle', 5., '', '',  80, 'um', 1., 0., 0., 1.)\n",
       " (1, -2787.5,  705.3, 'circle', 5., '', '',  81, 'um', 1., 0., 0., 1.)\n",
       " (2,  2012.5, 2358.9, 'circle', 5., '', '',  82, 'um', 1., 0., 0., 1.)\n",
       " (3, -1987.5, 2358.9, 'circle', 5., '', '',  83, 'um', 1., 0., 0., 1.)\n",
       " (0,   812.5,  705.3, 'circle', 5., '', '',  84, 'um', 1., 0., 0., 1.)\n",
       " (1, -3187.5,  705.3, 'circle', 5., '', '',  85, 'um', 1., 0., 0., 1.)\n",
       " (2,  2412.5, 2358.9, 'circle', 5., '', '',  86, 'um', 1., 0., 0., 1.)\n",
       " (3, -1587.5, 2358.9, 'circle', 5., '', '',  87, 'um', 1., 0., 0., 1.)\n",
       " (0,   412.5,  705.3, 'circle', 5., '', '',  88, 'um', 1., 0., 0., 1.)\n",
       " (1, -3587.5,  705.3, 'circle', 5., '', '',  89, 'um', 1., 0., 0., 1.)\n",
       " (2,  2812.5, 2358.9, 'circle', 5., '', '',  90, 'um', 1., 0., 0., 1.)\n",
       " (3, -1187.5, 2358.9, 'circle', 5., '', '',  91, 'um', 1., 0., 0., 1.)\n",
       " (0,    12.5,  705.3, 'circle', 5., '', '',  92, 'um', 1., 0., 0., 1.)\n",
       " (1, -3987.5,  705.3, 'circle', 5., '', '',  93, 'um', 1., 0., 0., 1.)\n",
       " (2,  3212.5, 2358.9, 'circle', 5., '', '',  94, 'um', 1., 0., 0., 1.)\n",
       " (3,  -787.5, 2358.9, 'circle', 5., '', '',  95, 'um', 1., 0., 0., 1.)\n",
       " (0,  3212.5, 1051.7, 'circle', 5., '', '',  96, 'um', 1., 0., 0., 1.)\n",
       " (1,  -787.5, 1051.7, 'circle', 5., '', '',  97, 'um', 1., 0., 0., 1.)\n",
       " (2,    12.5, 2012.5, 'circle', 5., '', '',  98, 'um', 1., 0., 0., 1.)\n",
       " (3, -3987.5, 2012.5, 'circle', 5., '', '',  99, 'um', 1., 0., 0., 1.)\n",
       " (0,  2812.5, 1051.7, 'circle', 5., '', '', 100, 'um', 1., 0., 0., 1.)\n",
       " (1, -1187.5, 1051.7, 'circle', 5., '', '', 101, 'um', 1., 0., 0., 1.)\n",
       " (2,   412.5, 2012.5, 'circle', 5., '', '', 102, 'um', 1., 0., 0., 1.)\n",
       " (3, -3587.5, 2012.5, 'circle', 5., '', '', 103, 'um', 1., 0., 0., 1.)\n",
       " (0,  2412.5, 1051.7, 'circle', 5., '', '', 104, 'um', 1., 0., 0., 1.)\n",
       " (1, -1587.5, 1051.7, 'circle', 5., '', '', 105, 'um', 1., 0., 0., 1.)\n",
       " (2,   812.5, 2012.5, 'circle', 5., '', '', 106, 'um', 1., 0., 0., 1.)\n",
       " (3, -3187.5, 2012.5, 'circle', 5., '', '', 107, 'um', 1., 0., 0., 1.)\n",
       " (0,  2012.5, 1051.7, 'circle', 5., '', '', 108, 'um', 1., 0., 0., 1.)\n",
       " (1, -1987.5, 1051.7, 'circle', 5., '', '', 109, 'um', 1., 0., 0., 1.)\n",
       " (2,  1212.5, 2012.5, 'circle', 5., '', '', 110, 'um', 1., 0., 0., 1.)\n",
       " (3, -2787.5, 2012.5, 'circle', 5., '', '', 111, 'um', 1., 0., 0., 1.)\n",
       " (0,  1612.5, 1051.7, 'circle', 5., '', '', 112, 'um', 1., 0., 0., 1.)\n",
       " (1, -2387.5, 1051.7, 'circle', 5., '', '', 113, 'um', 1., 0., 0., 1.)\n",
       " (2,  1612.5, 2012.5, 'circle', 5., '', '', 114, 'um', 1., 0., 0., 1.)\n",
       " (3, -2387.5, 2012.5, 'circle', 5., '', '', 115, 'um', 1., 0., 0., 1.)\n",
       " (0,  1212.5, 1051.7, 'circle', 5., '', '', 116, 'um', 1., 0., 0., 1.)\n",
       " (1, -2787.5, 1051.7, 'circle', 5., '', '', 117, 'um', 1., 0., 0., 1.)\n",
       " (2,  2012.5, 2012.5, 'circle', 5., '', '', 118, 'um', 1., 0., 0., 1.)\n",
       " (3, -1987.5, 2012.5, 'circle', 5., '', '', 119, 'um', 1., 0., 0., 1.)\n",
       " (0,   812.5, 1051.7, 'circle', 5., '', '', 120, 'um', 1., 0., 0., 1.)\n",
       " (1, -3187.5, 1051.7, 'circle', 5., '', '', 121, 'um', 1., 0., 0., 1.)\n",
       " (2,  2412.5, 2012.5, 'circle', 5., '', '', 122, 'um', 1., 0., 0., 1.)\n",
       " (3, -1587.5, 2012.5, 'circle', 5., '', '', 123, 'um', 1., 0., 0., 1.)\n",
       " (0,   412.5, 1051.7, 'circle', 5., '', '', 124, 'um', 1., 0., 0., 1.)\n",
       " (1, -3587.5, 1051.7, 'circle', 5., '', '', 125, 'um', 1., 0., 0., 1.)\n",
       " (2,  2812.5, 2012.5, 'circle', 5., '', '', 126, 'um', 1., 0., 0., 1.)\n",
       " (3, -1187.5, 2012.5, 'circle', 5., '', '', 127, 'um', 1., 0., 0., 1.)]</details><details><summary><strong>location</strong></summary>[[ 2812.5    12.5]\n",
       " [-1187.5    12.5]\n",
       " [  412.5  3051.7]\n",
       " [-3587.5  3051.7]\n",
       " [ 2412.5    12.5]\n",
       " [-1587.5    12.5]\n",
       " [  812.5  3051.7]\n",
       " [-3187.5  3051.7]\n",
       " [ 2012.5    12.5]\n",
       " [-1987.5    12.5]\n",
       " [ 1212.5  3051.7]\n",
       " [-2787.5  3051.7]\n",
       " [ 1612.5    12.5]\n",
       " [-2387.5    12.5]\n",
       " [ 1612.5  3051.7]\n",
       " [-2387.5  3051.7]\n",
       " [ 1212.5    12.5]\n",
       " [-2787.5    12.5]\n",
       " [ 2012.5  3051.7]\n",
       " [-1987.5  3051.7]\n",
       " [  812.5    12.5]\n",
       " [-3187.5    12.5]\n",
       " [ 2412.5  3051.7]\n",
       " [-1587.5  3051.7]\n",
       " [  412.5    12.5]\n",
       " [-3587.5    12.5]\n",
       " [ 2812.5  3051.7]\n",
       " [-1187.5  3051.7]\n",
       " [   12.5    12.5]\n",
       " [-3987.5    12.5]\n",
       " [ 3212.5  3051.7]\n",
       " [ -787.5  3051.7]\n",
       " [ 3212.5   358.9]\n",
       " [ -787.5   358.9]\n",
       " [   12.5  2705.3]\n",
       " [-3987.5  2705.3]\n",
       " [ 2812.5   358.9]\n",
       " [-1187.5   358.9]\n",
       " [  412.5  2705.3]\n",
       " [-3587.5  2705.3]\n",
       " [ 2412.5   358.9]\n",
       " [-1587.5   358.9]\n",
       " [  812.5  2705.3]\n",
       " [-3187.5  2705.3]\n",
       " [ 2012.5   358.9]\n",
       " [-1987.5   358.9]\n",
       " [ 1212.5  2705.3]\n",
       " [-2787.5  2705.3]\n",
       " [ 1612.5   358.9]\n",
       " [-2387.5   358.9]\n",
       " [ 1612.5  2705.3]\n",
       " [-2387.5  2705.3]\n",
       " [ 1212.5   358.9]\n",
       " [-2787.5   358.9]\n",
       " [ 2012.5  2705.3]\n",
       " [-1987.5  2705.3]\n",
       " [  812.5   358.9]\n",
       " [-3187.5   358.9]\n",
       " [ 2412.5  2705.3]\n",
       " [-1587.5  2705.3]\n",
       " [  412.5   358.9]\n",
       " [-3587.5   358.9]\n",
       " [ 2812.5  2705.3]\n",
       " [-1187.5  2705.3]\n",
       " [ 2812.5   705.3]\n",
       " [-1187.5   705.3]\n",
       " [  412.5  2358.9]\n",
       " [-3587.5  2358.9]\n",
       " [ 2412.5   705.3]\n",
       " [-1587.5   705.3]\n",
       " [  812.5  2358.9]\n",
       " [-3187.5  2358.9]\n",
       " [ 2012.5   705.3]\n",
       " [-1987.5   705.3]\n",
       " [ 1212.5  2358.9]\n",
       " [-2787.5  2358.9]\n",
       " [ 1612.5   705.3]\n",
       " [-2387.5   705.3]\n",
       " [ 1612.5  2358.9]\n",
       " [-2387.5  2358.9]\n",
       " [ 1212.5   705.3]\n",
       " [-2787.5   705.3]\n",
       " [ 2012.5  2358.9]\n",
       " [-1987.5  2358.9]\n",
       " [  812.5   705.3]\n",
       " [-3187.5   705.3]\n",
       " [ 2412.5  2358.9]\n",
       " [-1587.5  2358.9]\n",
       " [  412.5   705.3]\n",
       " [-3587.5   705.3]\n",
       " [ 2812.5  2358.9]\n",
       " [-1187.5  2358.9]\n",
       " [   12.5   705.3]\n",
       " [-3987.5   705.3]\n",
       " [ 3212.5  2358.9]\n",
       " [ -787.5  2358.9]\n",
       " [ 3212.5  1051.7]\n",
       " [ -787.5  1051.7]\n",
       " [   12.5  2012.5]\n",
       " [-3987.5  2012.5]\n",
       " [ 2812.5  1051.7]\n",
       " [-1187.5  1051.7]\n",
       " [  412.5  2012.5]\n",
       " [-3587.5  2012.5]\n",
       " [ 2412.5  1051.7]\n",
       " [-1587.5  1051.7]\n",
       " [  812.5  2012.5]\n",
       " [-3187.5  2012.5]\n",
       " [ 2012.5  1051.7]\n",
       " [-1987.5  1051.7]\n",
       " [ 1212.5  2012.5]\n",
       " [-2787.5  2012.5]\n",
       " [ 1612.5  1051.7]\n",
       " [-2387.5  1051.7]\n",
       " [ 1612.5  2012.5]\n",
       " [-2387.5  2012.5]\n",
       " [ 1212.5  1051.7]\n",
       " [-2787.5  1051.7]\n",
       " [ 2012.5  2012.5]\n",
       " [-1987.5  2012.5]\n",
       " [  812.5  1051.7]\n",
       " [-3187.5  1051.7]\n",
       " [ 2412.5  2012.5]\n",
       " [-1587.5  2012.5]\n",
       " [  412.5  1051.7]\n",
       " [-3587.5  1051.7]\n",
       " [ 2812.5  2012.5]\n",
       " [-1187.5  2012.5]]</details><details><summary><strong>group</strong></summary>[0 1 2 3 0 1 2 3 0 1 2 3 0 1 2 3 0 1 2 3 0 1 2 3 0 1 2 3 0 1 2 3 0 1 2 3 0\n",
       " 1 2 3 0 1 2 3 0 1 2 3 0 1 2 3 0 1 2 3 0 1 2 3 0 1 2 3 0 1 2 3 0 1 2 3 0 1\n",
       " 2 3 0 1 2 3 0 1 2 3 0 1 2 3 0 1 2 3 0 1 2 3 0 1 2 3 0 1 2 3 0 1 2 3 0 1 2\n",
       " 3 0 1 2 3 0 1 2 3 0 1 2 3 0 1 2 3]</details></ul></details>"
      ],
      "text/plain": [
       "BinaryRecordingExtractor: 128 channels - 32.0kHz - 1 segments - 128,791,427 samples \n",
       "                          4,024.73s (1.12 hours) - uint16 dtype - 30.71 GiB\n",
       "  file_paths: ['C:\\\\Users\\\\boninilab\\\\Desktop\\\\kilosort-test\\\\sorting-test-Wifi_20240430\\\\binary_files\\\\Wifi_20240430_good_heatmap.bin']"
      ]
     },
     "execution_count": 12,
     "metadata": {},
     "output_type": "execute_result"
    }
   ],
   "source": [
    "# ===========================================================================\n",
    "# Testing the postprocessing pipeline analyses for the sorted Wifi_20240430 session with kilosort4\n",
    "# ===========================================================================\n",
    "import spikeinterface as si\n",
    "\n",
    "\n",
    "import matplotlib.pyplot as plt\n",
    "import numpy as np\n",
    "\n",
    "from pathlib import Path\n",
    "\n",
    "# Loading the bin data \n",
    "file_path = Path(r\"C:\\Users\\boninilab\\Desktop\\kilosort-test\\sorting-test-Wifi_20240430\\binary_files\\Wifi_20240430_good_heatmap.bin\")\n",
    "\n",
    "# Confirm file existence\n",
    "assert file_path.is_file(), f\"Error: {file_path} is not a valid file. Please check the path.\"\n",
    "\n",
    "# Define recording parameters\n",
    "sampling_frequency = 32000.0  \n",
    "num_channels = 128  \n",
    "dtype = \"uint16\"\n",
    "gain_to_uV = 0.2\n",
    "offset_to_uV = - 2 ** (16 - 1) * gain_to_uV\n",
    "\n",
    "# Load data using SpikeInterface\n",
    "recording = si.read_binary(\n",
    "    file_paths=file_path,\n",
    "    sampling_frequency=sampling_frequency,\n",
    "    num_channels=num_channels,\n",
    "    dtype=dtype,\n",
    "    gain_to_uV=gain_to_uV,\n",
    "    offset_to_uV=offset_to_uV\n",
    ")\n",
    "\n",
    "# Load the probe configuration\n",
    "from probeinterface import read_prb\n",
    "\n",
    "probe_file = Path(\"wifi_channel_map_kilosort.prb\")\n",
    "probe = read_prb(probe_file)\n",
    "\n",
    "recording.set_probegroup(probe, in_place=True)\n",
    "\n",
    "recording"
   ]
  },
  {
   "cell_type": "code",
   "execution_count": 13,
   "metadata": {},
   "outputs": [
    {
     "data": {
      "text/html": [
       "<div style='border:1px solid #ddd; padding:10px;'><strong>PhySortingExtractor: 31 units - 1 segments - 32.0kHz</strong></div><details style='margin-left: 10px;'>  <summary><strong>Unit IDs</strong></summary><ul>[ 0  1  4  5  6  7  8  9 10 13 14 16 18 20 22 24 25 28 29 32 33 34 35 36\n",
       " 37 40 43 44 47 48 49] </details><details style='margin-left: 10px;'>  <summary><strong>Annotations</strong></summary><ul><li> <strong> phy_folder </strong>: C:\\Users\\boninilab\\Desktop\\kilosort-test\\sorting-test-Wifi_20240430\\kilosort4_output_tests\\Wifi_20240430_test4</li></details><details style='margin-left: 10px;'><summary><strong>Properties</strong></summary><ul><details><summary><strong>original_cluster_id</strong></summary>[ 0  1  4  5  6  7  8  9 10 13 14 16 18 20 22 24 25 28 29 32 33 34 35 36\n",
       " 37 40 43 44 47 48 49]</details><details><summary><strong>Amplitude</strong></summary>[ 5.3 29.7  7.3 19.7  2.5  4.5 17.  18.1  5.6  8.8  7.8 19.5  5.4  7.7\n",
       "  8.5  2.7  7.   7.8  3.4  6.   6.7  6.  24.6  7.5  1.7  8.   7.7  3.8\n",
       "  8.   8.1 28.1]</details><details><summary><strong>ContamPct</strong></summary>[94.8  0.  54.4  6.5 90.1 83.  66.2  1.7 94.1 78.  54.  11.9 78.  32.8\n",
       " 12.2 95.6 57.7 24.8 69.1 54.5 50.8 78.2  0.  45.5 64.2 12.7 25.9 66.1\n",
       " 77.5 58.9  0.2]</details><details><summary><strong>KSLabel</strong></summary>['mua' 'good' 'mua' 'good' 'mua' 'mua' 'mua' 'good' 'mua' 'mua' 'mua'\n",
       " 'good' 'mua' 'mua' 'good' 'mua' 'mua' 'mua' 'mua' 'mua' 'mua' 'mua'\n",
       " 'good' 'mua' 'mua' 'good' 'mua' 'mua' 'mua' 'mua' 'good']</details><details><summary><strong>amp</strong></summary>[  85.00019073  426.1630249   162.54954529  658.55822754   63.8690567\n",
       "  211.54000854  582.36956787  575.38562012  134.39898682  199.48754883\n",
       "  152.51449585  451.41738892  152.15768433  165.58970642  346.32745361\n",
       "   47.98197937  126.96234131  180.59280396   79.45278931   94.1343689\n",
       "  164.97315979  113.33382416  641.6036377   153.80863953   50.55757904\n",
       "  187.70077515  161.7247467    61.12304306  221.29057312  193.76322937\n",
       " 1090.0057373 ]</details><details><summary><strong>ch</strong></summary>[ 33   9  20  16  16   4  21  29  21  73  65  92  84  80  68  89  81 127\n",
       " 123  98 118 126 126 122  99  51  38  46  39  47  99]</details><details><summary><strong>depth</strong></summary>[ 358.8999939    12.5          12.5          12.5          12.5\n",
       "   12.5          12.5          12.5          12.5         705.29998779\n",
       "  705.29998779  705.29998779  705.29998779  705.29998779  705.29998779\n",
       "  705.29998779  705.29998779 2012.5        2012.5        2012.5\n",
       " 2012.5        2012.5        2012.5        2012.5        2012.5\n",
       " 2705.30004883 2705.30004883 2705.30004883 2705.30004883 2705.30004883\n",
       " 2012.5       ]</details><details><summary><strong>fr</strong></summary>[8.17969973e+01 1.40680171e+00 5.27471134e+01 2.07479648e+01\n",
       " 2.46632565e+02 1.74774614e+02 3.02959296e+01 3.47459152e+01\n",
       " 9.00907170e+01 7.90643930e+01 6.15394998e+01 8.74592370e-01\n",
       " 1.15353516e+02 6.47086549e+01 1.06610823e+02 4.63094178e+01\n",
       " 2.59080599e+01 6.81459023e+01 5.90188352e+01 8.99056115e+01\n",
       " 5.54956193e+01 3.92841055e+01 4.44750100e-02 4.36493649e+01\n",
       " 1.01840567e+02 8.94221010e+01 6.95204037e+01 7.41895344e+01\n",
       " 3.55027357e+01 6.01818939e+01 1.58005548e+01]</details><details><summary><strong>quality</strong></summary>['good' 'good' 'good' 'good' 'good' 'good' 'good' 'good' 'good' 'good'\n",
       " 'good' 'good' 'good' 'good' 'good' 'good' 'good' 'good' 'good' 'good'\n",
       " 'good' 'good' 'good' 'good' 'good' 'good' 'good' 'good' 'good' 'good'\n",
       " 'good']</details><details><summary><strong>n_spikes</strong></summary>[329211   5662 212293  83505 992630 703421 121933 139843 362591 318213\n",
       " 247680   3520 464267 260435 429080 186383 104273 274269 237535 361846\n",
       " 223355 158108    179 175677 409881 359900 279801 298593 142889 242216\n",
       "  63593]</details><details><summary><strong>sh</strong></summary>[2. 2. 1. 1. 1. 1. 2. 2. 2. 2. 2. 1. 1. 1. 1. 2. 2. 4. 4. 3. 3. 3. 3. 3.\n",
       " 4. 4. 3. 3. 4. 4. 4.]</details></ul></details>"
      ],
      "text/plain": [
       "PhySortingExtractor: 31 units - 1 segments - 32.0kHz"
      ]
     },
     "execution_count": 13,
     "metadata": {},
     "output_type": "execute_result"
    }
   ],
   "source": [
    "# Load the sorting result from kilosort4/phy\n",
    "from spikeinterface.extractors import read_phy\n",
    "\n",
    "sorting_path = Path(r\"C:\\Users\\boninilab\\Desktop\\kilosort-test\\sorting-test-Wifi_20240430\\kilosort4_output_tests\\Wifi_20240430_test4\")\n",
    "sorting = read_phy(sorting_path, exclude_cluster_groups=['noise', 'mua'])\n",
    "sorting"
   ]
  },
  {
   "cell_type": "code",
   "execution_count": 14,
   "metadata": {},
   "outputs": [
    {
     "name": "stdout",
     "output_type": "stream",
     "text": [
      "SortingAnalyzer: 128 channels - 31 units - 1 segments - memory - has recording\n",
      "Loaded 0 extensions\n"
     ]
    }
   ],
   "source": [
    "# Create the SortingAnalyzer\n",
    "analyzer = si.create_sorting_analyzer(\n",
    "    sorting=sorting,\n",
    "    recording=recording,\n",
    "    sparse=False, # default\n",
    "    format=\"memory\", # default\n",
    ")\n",
    "print(analyzer)"
   ]
  },
  {
   "cell_type": "code",
   "execution_count": 15,
   "metadata": {},
   "outputs": [
    {
     "data": {
      "application/vnd.jupyter.widget-view+json": {
       "model_id": "f2714b9f0b8944e99f433b5bb8aabdbb",
       "version_major": 2,
       "version_minor": 0
      },
      "text/plain": [
       "compute_waveforms (workers: 8 processes):   0%|          | 0/4025 [00:00<?, ?it/s]"
      ]
     },
     "metadata": {},
     "output_type": "display_data"
    },
    {
     "data": {
      "text/plain": [
       "SortingAnalyzer: 128 channels - 31 units - 1 segments - memory - has recording\n",
       "Loaded 3 extensions: random_spikes, waveforms, templates"
      ]
     },
     "execution_count": 15,
     "metadata": {},
     "output_type": "execute_result"
    }
   ],
   "source": [
    "ms_before = 1.0\n",
    "ms_after = 2.0\n",
    "\n",
    "job_kwargs = dict(n_jobs=8, chunk_duration=\"1s\", progress_bar=True)\n",
    "compute_dict = {\n",
    "    'random_spikes': {'method': 'uniform', 'max_spikes_per_unit': 1000},\n",
    "    'waveforms': {'ms_before': 1.0, 'ms_after': 2.0},\n",
    "    'templates': {'operators': [\"average\", \"median\", \"std\"]}\n",
    "}\n",
    "analyzer.compute(compute_dict, **job_kwargs)\n",
    "\n",
    "analyzer"
   ]
  },
  {
   "cell_type": "code",
   "execution_count": 16,
   "metadata": {},
   "outputs": [
    {
     "data": {
      "application/vnd.jupyter.widget-view+json": {
       "model_id": "e969db832e3743b68804182e1503b4be",
       "version_major": 2,
       "version_minor": 0
      },
      "text/plain": [
       "compute_waveforms (workers: 8 processes):   0%|          | 0/4025 [00:00<?, ?it/s]"
      ]
     },
     "metadata": {},
     "output_type": "display_data"
    },
    {
     "data": {
      "text/plain": [
       "SortingAnalyzer: 128 channels - 31 units - 1 segments - memory - sparse - has recording\n",
       "Loaded 3 extensions: random_spikes, waveforms, templates"
      ]
     },
     "execution_count": 16,
     "metadata": {},
     "output_type": "execute_result"
    }
   ],
   "source": [
    "# Recompute the analyzer with sparsity enabled\n",
    "sparsity = si.compute_sparsity(analyzer, method=\"best_channels\")\n",
    "analyzer = si.create_sorting_analyzer(\n",
    "    sorting=sorting,\n",
    "    recording=recording,\n",
    "    sparsity=sparsity, # default\n",
    "    format=\"memory\", # default\n",
    ")\n",
    "\n",
    "ms_before = 1.0\n",
    "ms_after = 2.0\n",
    "\n",
    "job_kwargs = dict(n_jobs=8, chunk_duration=\"1s\", progress_bar=True)\n",
    "compute_dict = {\n",
    "    'random_spikes': {'method': 'uniform', 'max_spikes_per_unit': 1000},\n",
    "    'waveforms': {'ms_before': 1.0, 'ms_after': 2.0},\n",
    "    'templates': {'operators': [\"average\", \"median\", \"std\"]}}\n",
    "analyzer.compute(compute_dict, **job_kwargs)\n",
    "\n",
    "analyzer"
   ]
  },
  {
   "cell_type": "code",
   "execution_count": 21,
   "metadata": {},
   "outputs": [
    {
     "name": "stdout",
     "output_type": "stream",
     "text": [
      "Templates shape:  (31, 96, 128)\n"
     ]
    }
   ],
   "source": [
    "ext_templates = analyzer.get_extension(\"templates\")\n",
    "\n",
    "av_templates = ext_templates.get_data(operator=\"average\")\n",
    "print(\"Templates shape: \", av_templates.shape)"
   ]
  },
  {
   "cell_type": "code",
   "execution_count": 18,
   "metadata": {},
   "outputs": [
    {
     "data": {
      "text/plain": [
       "array([ 0,  1,  4,  5,  6,  7,  8,  9, 10, 13, 14, 16, 18, 20, 22, 24, 25,\n",
       "       28, 29, 32, 33, 34, 35, 36, 37, 40, 43, 44, 47, 48, 49])"
      ]
     },
     "execution_count": 18,
     "metadata": {},
     "output_type": "execute_result"
    }
   ],
   "source": [
    "cluster_ids = sorting.get_unit_ids()\n",
    "\n",
    "# for cluster_id in cluster_ids:\n",
    "#     for \n",
    "\n",
    "cluster_ids"
   ]
  },
  {
   "cell_type": "code",
   "execution_count": null,
   "metadata": {},
   "outputs": [
    {
     "data": {
      "text/plain": [
       "array([48])"
      ]
     },
     "execution_count": 25,
     "metadata": {},
     "output_type": "execute_result"
    }
   ],
   "source": []
  },
  {
   "cell_type": "code",
   "execution_count": 33,
   "metadata": {},
   "outputs": [
    {
     "data": {
      "text/plain": [
       "<matplotlib.legend.Legend at 0x15928f07ed0>"
      ]
     },
     "execution_count": 33,
     "metadata": {},
     "output_type": "execute_result"
    },
    {
     "data": {
      "image/png": "[encoded data removed]",
      "text/plain": [
       "<Figure size 640x480 with 1 Axes>"
      ]
     },
     "metadata": {},
     "output_type": "display_data"
    }
   ],
   "source": [
    "cluster_ids = sorting.get_unit_ids()\n",
    "unit_id = 32\n",
    "channel_id = 98\n",
    "\n",
    "fig, ax = plt.subplots()\n",
    "unit_index = np.where(np.array(cluster_ids) == unit_id)[0][0]\n",
    "template = av_templates[unit_index]\n",
    "\n",
    "from scipy.interpolate import interp1d\n",
    "\n",
    "# Define original and target time points\n",
    "npoints = 1000\n",
    "original_times = np.linspace(0., 3., 96)  # Original 96 points\n",
    "target_times = np.linspace(0., 3., npoints)  # Target 1000 points\n",
    "\n",
    "# Create interpolation function (cubic gives smoother results)\n",
    "f = interp1d(original_times, template[:,channel_id], kind='cubic')\n",
    "# Apply interpolation to get upsampled waveform\n",
    "template_upsampled = f(target_times)\n",
    "\n",
    "wf_times = np.linspace(0., 3., npoints)\n",
    "\n",
    "ax.plot(wf_times, template_upsampled, label=f\"Channel {channel_id}\")\n",
    "ax.set_title(f\"Cluster {unit_id}\")\n",
    "plt.legend()"
   ]
  },
  {
   "cell_type": "code",
   "execution_count": null,
   "metadata": {},
   "outputs": [],
   "source": []
  },
  {
   "cell_type": "code",
   "execution_count": 31,
   "metadata": {},
   "outputs": [
    {
     "name": "stderr",
     "output_type": "stream",
     "text": [
      "c:\\Users\\boninilab\\miniconda3\\envs\\spikeinterface\\Lib\\site-packages\\scipy\\stats\\_stats_py.py:10730: RuntimeWarning: invalid value encountered in scalar divide\n",
      "  slope = ssxym / ssxm\n",
      "c:\\Users\\boninilab\\miniconda3\\envs\\spikeinterface\\Lib\\site-packages\\scipy\\stats\\_stats_py.py:10744: RuntimeWarning: invalid value encountered in sqrt\n",
      "  t = r * np.sqrt(df / ((1.0 - r + TINY)*(1.0 + r + TINY)))\n",
      "c:\\Users\\boninilab\\miniconda3\\envs\\spikeinterface\\Lib\\site-packages\\scipy\\stats\\_stats_py.py:10750: RuntimeWarning: invalid value encountered in scalar divide\n",
      "  slope_stderr = np.sqrt((1 - r**2) * ssym / ssxm / df)\n"
     ]
    },
    {
     "data": {
      "text/plain": [
       "<spikeinterface.postprocessing.template_metrics.ComputeTemplateMetrics at 0x2125b692d50>"
      ]
     },
     "execution_count": 31,
     "metadata": {},
     "output_type": "execute_result"
    }
   ],
   "source": [
    "analyzer.compute(input=\"template_metrics\", upsampling_factor=100)"
   ]
  },
  {
   "cell_type": "code",
   "execution_count": 25,
   "metadata": {},
   "outputs": [],
   "source": [
    "spk_times = sorting.get_unit_spike_train(unit_id=1, return_times=True)"
   ]
  },
  {
   "cell_type": "code",
   "execution_count": 27,
   "metadata": {},
   "outputs": [
    {
     "data": {
      "text/plain": [
       "array([204.72109375, 211.0305    , 211.08978125, 211.1665625 ,\n",
       "       211.51965625, 211.62140625, 211.75625   , 213.0785    ,\n",
       "       213.13778125, 213.2145625 , 213.56765625, 213.66940625,\n",
       "       213.80425   , 219.625625  , 220.299625  , 220.36078125,\n",
       "       221.67359375])"
      ]
     },
     "execution_count": 27,
     "metadata": {},
     "output_type": "execute_result"
    }
   ],
   "source": [
    "spk_times[333:350]"
   ]
  },
  {
   "cell_type": "code",
   "execution_count": null,
   "metadata": {},
   "outputs": [],
   "source": []
  },
  {
   "cell_type": "code",
   "execution_count": null,
   "metadata": {},
   "outputs": [],
   "source": []
  },
  {
   "cell_type": "code",
   "execution_count": null,
   "metadata": {},
   "outputs": [],
   "source": []
  },
  {
   "cell_type": "code",
   "execution_count": null,
   "metadata": {},
   "outputs": [],
   "source": []
  }
 ],
 "metadata": {
  "kernelspec": {
   "display_name": "spikeinterface",
   "language": "python",
   "name": "python3"
  },
  "language_info": {
   "codemirror_mode": {
    "name": "ipython",
    "version": 3
   },
   "file_extension": ".py",
   "mimetype": "text/x-python",
   "name": "python",
   "nbconvert_exporter": "python",
   "pygments_lexer": "ipython3",
   "version": "3.13.2"
  }
 },
 "nbformat": 4,
 "nbformat_minor": 2
}
